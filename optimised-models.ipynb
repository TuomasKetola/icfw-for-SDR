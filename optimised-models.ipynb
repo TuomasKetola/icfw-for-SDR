{
 "cells": [
  {
   "cell_type": "code",
   "execution_count": 4,
   "id": "fc3297cf",
   "metadata": {},
   "outputs": [],
   "source": [
    "import numpy as np"
   ]
  },
  {
   "cell_type": "code",
   "execution_count": null,
   "id": "bc75b6cb",
   "metadata": {},
   "outputs": [],
   "source": []
  },
  {
   "cell_type": "code",
   "execution_count": 20,
   "id": "aaf077cc",
   "metadata": {},
   "outputs": [],
   "source": [
    "scores  = np.array([\n",
    "    [1.2,0.1,0.0,2.0],\n",
    "    [0,0.1,0.0,2.0],\n",
    "    [1.2,0.1,0.0,3.0],\n",
    "    [1.2,0.0,0.1,2.0],\n",
    "    [0.5,1.0,0.1,1.0]\n",
    "])"
   ]
  },
  {
   "cell_type": "code",
   "execution_count": 21,
   "id": "10130f9d",
   "metadata": {},
   "outputs": [],
   "source": [
    "idfs = np.array([2.5, 3.4, 2.0])"
   ]
  },
  {
   "cell_type": "code",
   "execution_count": 22,
   "id": "8f0e8181",
   "metadata": {},
   "outputs": [],
   "source": [
    "field_weights = np.array([2,1,1,1])"
   ]
  },
  {
   "cell_type": "code",
   "execution_count": 23,
   "id": "eb2b0e39",
   "metadata": {},
   "outputs": [],
   "source": [
    "lambda_  = np.array([0.2,0.3,0.4,1.0])"
   ]
  },
  {
   "cell_type": "code",
   "execution_count": 30,
   "id": "26c9270c",
   "metadata": {},
   "outputs": [],
   "source": [
    "# mock values to make sure functions run\n",
    "\n",
    "P_d = np.array([\n",
    "    [0.25,0.5,1,0.1],\n",
    "    [1, 0.25,1,0.2],\n",
    "    [0.25,0.5,1,0.1],\n",
    "    [0.25,0.25,0.5,0.25],\n",
    "    [0.3,0.25,0.5,0.25],\n",
    "])\n",
    "icd = -np.log(P_d)\n",
    "P_F =  np.array([\n",
    "    [0.0025,0.0005,1,0.0001],\n",
    "    [1, 0.00025,1,0.0002],\n",
    "    [0.00025,0.0005,1,0.0001],\n",
    "    [0.00025,0.00025,0.0005,0.00025],\n",
    "    [0.0003,0.00025,0.0005,0.0025],\n",
    "])\n",
    "icf = -np.log(P_F)"
   ]
  },
  {
   "cell_type": "code",
   "execution_count": 33,
   "id": "092bff55",
   "metadata": {},
   "outputs": [],
   "source": [
    "def icfwLC(scores, field_weights, icf, icd, lambda_):\n",
    "    weighted_scores = scores * field_weights\n",
    "    icfw_field_weights = icf + lambda_ * icd\n",
    "    \n",
    "    return np.sum(icfw_field_weights * weighted_scores, axis=1)"
   ]
  },
  {
   "cell_type": "code",
   "execution_count": 34,
   "id": "a9824012",
   "metadata": {},
   "outputs": [
    {
     "data": {
      "text/plain": [
       "array([55.0848967 , 35.14699922, 80.13702252, 58.12718787, 33.56339367])"
      ]
     },
     "execution_count": 34,
     "metadata": {},
     "output_type": "execute_result"
    }
   ],
   "source": [
    "icfwLC(scores, field_weights, icf, icf, lambda_)"
   ]
  },
  {
   "cell_type": "code",
   "execution_count": 32,
   "id": "d2c529f3",
   "metadata": {},
   "outputs": [],
   "source": [
    "def icfwLE(scores, field_weights, icf, icd, B0, B1, B2, idfs):\n",
    "    lambda_ = B0 + B1 * np.mean(idfs) + B2 * np.var(idfs)\n",
    "    weighted_scores = scores * field_weights\n",
    "    icfw_field_weights = icf + lambda_ * icd\n",
    "    \n",
    "    return np.sum(icfw_field_weights * weighted_scores, axis=1)"
   ]
  },
  {
   "cell_type": "code",
   "execution_count": 35,
   "id": "a30f4a1d",
   "metadata": {},
   "outputs": [
    {
     "data": {
      "text/plain": [
       "array([65.31771299, 31.18935667, 89.19296197, 61.73802354, 39.21496579])"
      ]
     },
     "execution_count": 35,
     "metadata": {},
     "output_type": "execute_result"
    }
   ],
   "source": [
    "B0, B1, B2 = 1,1,1\n",
    "icfwLE(scores, field_weights, icf, icd, B0, B1, B2, idfs)"
   ]
  },
  {
   "cell_type": "code",
   "execution_count": null,
   "id": "928c940e",
   "metadata": {},
   "outputs": [],
   "source": []
  }
 ],
 "metadata": {
  "kernelspec": {
   "display_name": "Python 3 (ipykernel)",
   "language": "python",
   "name": "python3"
  },
  "language_info": {
   "codemirror_mode": {
    "name": "ipython",
    "version": 3
   },
   "file_extension": ".py",
   "mimetype": "text/x-python",
   "name": "python",
   "nbconvert_exporter": "python",
   "pygments_lexer": "ipython3",
   "version": "3.9.5"
  }
 },
 "nbformat": 4,
 "nbformat_minor": 5
}
